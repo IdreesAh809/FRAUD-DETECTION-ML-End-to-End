{
 "cells": [
  {
   "cell_type": "code",
   "execution_count": null,
   "metadata": {
    "executionInfo": {
     "elapsed": 2045,
     "status": "ok",
     "timestamp": 1742499650961,
     "user": {
      "displayName": "Tech Soft",
      "userId": "05692997813274232317"
     },
     "user_tz": -300
    },
    "id": "IhypckK29RaY"
   },
   "outputs": [],
   "source": [
    "import os\n",
    "import joblib\n",
    "import pandas as pd\n",
    "import xgboost as xgb\n",
    "from sklearn.metrics import accuracy_score, precision_score, recall_score, f1_score"
   ]
  },
  {
   "cell_type": "code",
   "execution_count": null,
   "metadata": {
    "executionInfo": {
     "elapsed": 38,
     "status": "ok",
     "timestamp": 1742499650965,
     "user": {
      "displayName": "Tech Soft",
      "userId": "05692997813274232317"
     },
     "user_tz": -300
    },
    "id": "RtS8zXQx9Wwm"
   },
   "outputs": [],
   "source": [
    "# Define paths for models and datasets\n",
    "models_dir = \"/content/drive/MyDrive/models\"\n",
    "test_data_path = \"/content/drive/MyDrive/test_data.csv\"\n",
    "train_data_path = \"/content/drive/MyDrive/train_data.csv\""
   ]
  },
  {
   "cell_type": "code",
   "execution_count": null,
   "metadata": {
    "executionInfo": {
     "elapsed": 6792,
     "status": "ok",
     "timestamp": 1742499657750,
     "user": {
      "displayName": "Tech Soft",
      "userId": "05692997813274232317"
     },
     "user_tz": -300
    },
    "id": "xc-kbeZP9cwg"
   },
   "outputs": [],
   "source": [
    "# Load test and train data\n",
    "test_df = pd.read_csv(test_data_path)\n",
    "train_df = pd.read_csv(train_data_path)"
   ]
  },
  {
   "cell_type": "code",
   "execution_count": null,
   "metadata": {
    "executionInfo": {
     "elapsed": 167,
     "status": "ok",
     "timestamp": 1742499657941,
     "user": {
      "displayName": "Tech Soft",
      "userId": "05692997813274232317"
     },
     "user_tz": -300
    },
    "id": "9STgXuKl9c76"
   },
   "outputs": [],
   "source": [
    "# Extract features and target variable\n",
    "X_test = test_df.drop(columns=['Class'])  # Adjust 'Class' column name if different\n",
    "y_test = test_df['Class']\n",
    "X_train = train_df.drop(columns=['Class'])\n",
    "y_train = train_df['Class']"
   ]
  },
  {
   "cell_type": "code",
   "execution_count": null,
   "metadata": {
    "executionInfo": {
     "elapsed": 1,
     "status": "ok",
     "timestamp": 1742499657944,
     "user": {
      "displayName": "Tech Soft",
      "userId": "05692997813274232317"
     },
     "user_tz": -300
    },
    "id": "_N9YlfzM9mw-"
   },
   "outputs": [],
   "source": [
    "# Dictionary containing model names and their corresponding file paths\n",
    "model_filenames = {\n",
    "    \"Logistic Regression\": \"logistic_regression.pkl\",\n",
    "    \"Random Forest\": \"random_forest.pkl\",\n",
    "    \"Support Vector Machine\": \"svm.pkl\",\n",
    "    \"XGBoost\": \"xgboost.pkl\",\n",
    "    \"K-Nearest Neighbors\": \"knn.pkl\"\n",
    "}"
   ]
  },
  {
   "cell_type": "code",
   "execution_count": null,
   "metadata": {
    "executionInfo": {
     "elapsed": 1,
     "status": "ok",
     "timestamp": 1742499657946,
     "user": {
      "displayName": "Tech Soft",
      "userId": "05692997813274232317"
     },
     "user_tz": -300
    },
    "id": "o6KdPrXt9rJ2"
   },
   "outputs": [],
   "source": [
    "# Initialize list to store evaluation results\n",
    "results = []\n"
   ]
  },
  {
   "cell_type": "code",
   "execution_count": null,
   "metadata": {
    "colab": {
     "base_uri": "https://localhost:8080/"
    },
    "executionInfo": {
     "elapsed": 21837,
     "status": "ok",
     "timestamp": 1742499679817,
     "user": {
      "displayName": "Tech Soft",
      "userId": "05692997813274232317"
     },
     "user_tz": -300
    },
    "id": "CpVv4NbG9rOC",
    "outputId": "e5a1b0e6-7f37-40db-bde0-fa8133d9c746"
   },
   "outputs": [],
   "source": [
    "# Iterate through models, load them, and evaluate\n",
    "for model_name, filename in model_filenames.items():\n",
    "    model_path = os.path.join(models_dir, filename)\n",
    "\n",
    "    if os.path.exists(model_path):\n",
    "        # Load the saved model\n",
    "        model = joblib.load(model_path)\n",
    "\n",
    "        # Predict on train and test datasets\n",
    "        y_train_pred = model.predict(X_train)\n",
    "        y_test_pred = model.predict(X_test)\n",
    "\n",
    "        # Compute evaluation metrics\n",
    "        metrics = {\n",
    "            'Model': model_name,\n",
    "            'Train Accuracy': accuracy_score(y_train, y_train_pred),\n",
    "            'Test Accuracy': accuracy_score(y_test, y_test_pred),\n",
    "            'Precision': precision_score(y_test, y_test_pred, zero_division=1),\n",
    "            'Recall': recall_score(y_test, y_test_pred, zero_division=1),\n",
    "            'F1 Score': f1_score(y_test, y_test_pred, zero_division=1)\n",
    "        }\n",
    "        results.append(metrics)\n",
    "    else:\n",
    "        print(f\"Model file not found: {model_path}\")"
   ]
  },
  {
   "cell_type": "code",
   "execution_count": null,
   "metadata": {
    "colab": {
     "base_uri": "https://localhost:8080/"
    },
    "executionInfo": {
     "elapsed": 67,
     "status": "ok",
     "timestamp": 1742499679909,
     "user": {
      "displayName": "Tech Soft",
      "userId": "05692997813274232317"
     },
     "user_tz": -300
    },
    "id": "g40tb9wP9rXb",
    "outputId": "65e6eef8-87c6-4a03-d244-df9eb63acda8"
   },
   "outputs": [],
   "source": [
    "# Convert results to DataFrame and display\n",
    "evaluation_df = pd.DataFrame(results)\n",
    "print(evaluation_df)"
   ]
  },
  {
   "cell_type": "code",
   "execution_count": null,
   "metadata": {
    "executionInfo": {
     "elapsed": 6,
     "status": "ok",
     "timestamp": 1742499679911,
     "user": {
      "displayName": "Tech Soft",
      "userId": "05692997813274232317"
     },
     "user_tz": -300
    },
    "id": "1ghF3EjH96aB"
   },
   "outputs": [],
   "source": [
    "# Save evaluation results to CSV\n",
    "evaluation_df.to_csv(os.path.join(models_dir, 'evaluation_results.csv'), index=False)"
   ]
  }
 ],
 "metadata": {
  "accelerator": "GPU",
  "colab": {
   "authorship_tag": "ABX9TyNbnkPspEfyfUpv38E05ZWE",
   "gpuType": "T4",
   "provenance": []
  },
  "kernelspec": {
   "display_name": "fraud-detection",
   "language": "python",
   "name": "python3"
  },
  "language_info": {
   "codemirror_mode": {
    "name": "ipython",
    "version": 3
   },
   "file_extension": ".py",
   "mimetype": "text/x-python",
   "name": "python",
   "nbconvert_exporter": "python",
   "pygments_lexer": "ipython3",
   "version": "3.9.22"
  }
 },
 "nbformat": 4,
 "nbformat_minor": 0
}
